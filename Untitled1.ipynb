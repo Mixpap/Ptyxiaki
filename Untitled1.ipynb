{
 "metadata": {
  "name": "",
  "signature": "sha256:18d944c329fd6b8facdffd477ac07e596c07c60393764313fc10c0bccaffe641"
 },
 "nbformat": 3,
 "nbformat_minor": 0,
 "worksheets": []
}