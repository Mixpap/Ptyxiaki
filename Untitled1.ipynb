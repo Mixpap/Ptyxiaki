{
 "metadata": {
  "name": "",
  "signature": "sha256:2b0fc9eeb132ae9ff2d0d3fd8cbde511b98bffe9885b683bed1ed96e4c3a9229"
 },
 "nbformat": 3,
 "nbformat_minor": 0,
 "worksheets": [
  {
   "cells": [
    {
     "cell_type": "code",
     "collapsed": false,
     "input": [
      "%matplotlib inline\n",
      "import matplotlib.pyplot as plt\n",
      "#import seaborn \n",
      "import numpy as np\n",
      "from IPython.core.pylabtools import figsize\n",
      "from IPython.html.widgets import interact, interactive, fixed\n",
      "from IPython.html import widgets\n",
      "from IPython.display import clear_output, display, HTML\n",
      "import pandas as pd\n",
      "%load_ext autoreload"
     ],
     "language": "python",
     "metadata": {},
     "outputs": [
      {
       "output_type": "stream",
       "stream": "stderr",
       "text": [
        "/usr/local/lib/python2.7/dist-packages/pandas/io/excel.py:626: UserWarning: Installed openpyxl is not supported at this time. Use >=1.6.1 and <2.0.0.\n",
        "  .format(openpyxl_compat.start_ver, openpyxl_compat.stop_ver))\n"
       ]
      }
     ],
     "prompt_number": 1
    },
    {
     "cell_type": "code",
     "collapsed": false,
     "input": [
      "%aimport functions"
     ],
     "language": "python",
     "metadata": {},
     "outputs": [],
     "prompt_number": 2
    },
    {
     "cell_type": "code",
     "collapsed": false,
     "input": [
      "%autoreload 1"
     ],
     "language": "python",
     "metadata": {},
     "outputs": [],
     "prompt_number": 3
    },
    {
     "cell_type": "code",
     "collapsed": false,
     "input": [
      ",'Protostar',,500e-6"
     ],
     "language": "python",
     "metadata": {},
     "outputs": []
    },
    {
     "cell_type": "code",
     "collapsed": false,
     "input": [
      "data={'Category':['HI Super Cloud','GMC','Molecular Cloud','Clump','Molecular Core'],\n",
      "      'Length':[1e3,100,10,2,0.1],\n",
      "      'Density':[30,100,300,1e3,1e4]}\n",
      "scales=pd.DataFrame(data)"
     ],
     "language": "python",
     "metadata": {},
     "outputs": [],
     "prompt_number": 5
    },
    {
     "cell_type": "code",
     "collapsed": false,
     "input": [
      "scales"
     ],
     "language": "python",
     "metadata": {},
     "outputs": [
      {
       "html": [
        "<div style=\"max-height:1000px;max-width:1500px;overflow:auto;\">\n",
        "<table border=\"1\" class=\"dataframe\">\n",
        "  <thead>\n",
        "    <tr style=\"text-align: right;\">\n",
        "      <th></th>\n",
        "      <th>Category</th>\n",
        "      <th>Density</th>\n",
        "      <th>Length</th>\n",
        "    </tr>\n",
        "  </thead>\n",
        "  <tbody>\n",
        "    <tr>\n",
        "      <th>0</th>\n",
        "      <td>  HI Super Cloud</td>\n",
        "      <td>    30</td>\n",
        "      <td> 1000.0</td>\n",
        "    </tr>\n",
        "    <tr>\n",
        "      <th>1</th>\n",
        "      <td>             GMC</td>\n",
        "      <td>   100</td>\n",
        "      <td>  100.0</td>\n",
        "    </tr>\n",
        "    <tr>\n",
        "      <th>2</th>\n",
        "      <td> Molecular Cloud</td>\n",
        "      <td>   300</td>\n",
        "      <td>   10.0</td>\n",
        "    </tr>\n",
        "    <tr>\n",
        "      <th>3</th>\n",
        "      <td>           Clump</td>\n",
        "      <td>  1000</td>\n",
        "      <td>    2.0</td>\n",
        "    </tr>\n",
        "    <tr>\n",
        "      <th>4</th>\n",
        "      <td>  Molecular Core</td>\n",
        "      <td> 10000</td>\n",
        "      <td>    0.1</td>\n",
        "    </tr>\n",
        "  </tbody>\n",
        "</table>\n",
        "</div>"
       ],
       "metadata": {},
       "output_type": "pyout",
       "prompt_number": 6,
       "text": [
        "          Category  Density  Length\n",
        "0   HI Super Cloud       30  1000.0\n",
        "1              GMC      100   100.0\n",
        "2  Molecular Cloud      300    10.0\n",
        "3            Clump     1000     2.0\n",
        "4   Molecular Core    10000     0.1"
       ]
      }
     ],
     "prompt_number": 6
    },
    {
     "cell_type": "code",
     "collapsed": false,
     "input": [
      "def CreateAxis(start,stop,where,log=True):\n",
      "    \"\"\"\n",
      "    where='l,r,t,b'\n",
      "    \"\"\"\n",
      "    fig = plt.figure(facecolor='white')\n",
      "    ax=plt.subplot(111,axisbg='white')\n",
      "    ax.grid(which='both',alpha=0.)\n",
      "    \n",
      "    if log:\n",
      "        yy=np.logspace(start,stop)\n",
      "        ax.set_xscale('log')\n",
      "        ax.set_yscale('log')\n",
      "    else:\n",
      "        yy=np.linspace(start,stop)\n",
      "        \n",
      "    plt.xlim(yy[0],yy[-1])\n",
      "    plt.ylim(yy[0],yy[-1])\n",
      "    \n",
      "    if where=='l':\n",
      "        ax.spines['left'].set_visible(True)\n",
      "        ax.spines['top'].set_visible(False)\n",
      "        ax.spines['bottom'].set_visible(False)\n",
      "        ax.spines['right'].set_visible(False)\n",
      "        ax.get_xaxis().tick_bottom()\n",
      "        ax.get_yaxis().tick_left()\n",
      "        ax.axes.get_xaxis().set_visible(False)\n",
      "        \n",
      "    if where=='r':\n",
      "        ax.spines['left'].set_visible(False)\n",
      "        ax.spines['top'].set_visible(False)\n",
      "        ax.spines['bottom'].set_visible(False)\n",
      "        ax.spines['right'].set_visible(True)\n",
      "        ax.get_xaxis().tick_bottom()\n",
      "        ax.get_yaxis().tick_right()\n",
      "        ax.axes.get_xaxis().set_visible(False)\n",
      "        \n",
      "    if where=='t':\n",
      "        ax.spines['left'].set_visible(False)\n",
      "        ax.spines['top'].set_visible(True)\n",
      "        ax.spines['bottom'].set_visible(False)\n",
      "        ax.spines['right'].set_visible(False)\n",
      "        ax.get_xaxis().tick_top()\n",
      "        ax.get_yaxis().tick_left()\n",
      "        ax.axes.get_yaxis().set_visible(False)\n",
      "        \n",
      "    if where=='b':\n",
      "        ax.spines['left'].set_visible(False)\n",
      "        ax.spines['top'].set_visible(False)\n",
      "        ax.spines['bottom'].set_visible(True)\n",
      "        ax.spines['right'].set_visible(False)\n",
      "        ax.get_xaxis().tick_bottom()\n",
      "        ax.get_yaxis().tick_left()\n",
      "        ax.axes.get_yaxis().set_visible(False)\n",
      "    \n",
      "    ax.plot(yy,yy,marker='o',alpha=0.00)\n",
      "    plt.savefig(\"test.svg\")"
     ],
     "language": "python",
     "metadata": {},
     "outputs": [],
     "prompt_number": 62
    },
    {
     "cell_type": "code",
     "collapsed": false,
     "input": [
      "CreateAxis(5,2,'r')"
     ],
     "language": "python",
     "metadata": {},
     "outputs": [
      {
       "metadata": {},
       "output_type": "display_data",
       "png": "[encoded data removed]",
       "text": [
        "<matplotlib.figure.Figure at 0x7c1e350>"
       ]
      }
     ],
     "prompt_number": 63
    },
    {
     "cell_type": "code",
     "collapsed": true,
     "input": [
      "plt.plot(np.logspace(5,2),np.logspace(2,5))\n",
      "plt.xlim(5,2)"
     ],
     "language": "python",
     "metadata": {},
     "outputs": [
      {
       "metadata": {},
       "output_type": "pyout",
       "prompt_number": 58,
       "text": [
        "(5, 2)"
       ]
      },
      {
       "metadata": {},
       "output_type": "display_data",
       "png": "[encoded data removed]",
       "text": [
        "<matplotlib.figure.Figure at 0x7bf52d0>"
       ]
      }
     ],
     "prompt_number": 58
    },
    {
     "cell_type": "code",
     "collapsed": false,
     "input": [
      "popt"
     ],
     "language": "python",
     "metadata": {},
     "outputs": [
      {
       "metadata": {},
       "output_type": "pyout",
       "prompt_number": 9,
       "text": [
        "array([  6.77253882e+05,  -1.91639115e+00])"
       ]
      }
     ],
     "prompt_number": 9
    },
    {
     "cell_type": "code",
     "collapsed": false,
     "input": [],
     "language": "python",
     "metadata": {},
     "outputs": []
    }
   ],
   "metadata": {}
  }
 ]
}